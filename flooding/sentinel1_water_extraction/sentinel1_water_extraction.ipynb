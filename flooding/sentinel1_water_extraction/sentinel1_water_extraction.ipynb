{
 "cells": [
  {
   "cell_type": "markdown",
   "id": "afd1fc79",
   "metadata": {
    "collapsed": false
   },
   "source": [
    "# Sentinel-1 Water Extraction\n"
   ]
  },
  {
   "cell_type": "code",
   "execution_count": null,
   "id": "08f4d272",
   "metadata": {},
   "outputs": [],
   "source": [
    "\"\"\"Sentinel-1 Water Extraction.\"\"\"\n"
   ]
  }
 ],
 "metadata": {
  "language_info": {
   "name": "python"
  }
 },
 "nbformat": 4,
 "nbformat_minor": 5
}
