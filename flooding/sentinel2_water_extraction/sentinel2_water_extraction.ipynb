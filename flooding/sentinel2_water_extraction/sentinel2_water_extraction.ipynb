{
 "cells": [
  {
   "cell_type": "markdown",
   "metadata": {},
   "source": [
    "![header](images/header.png)\n",
    "\n",
    "# Sentinel-2 Water Extraction\n",
    "The purpose of this notebook is the extraction of water polygons from Sentinel-2 imagery. This was developed to provide support in flooding events.\n",
    "\n",
    "\n",
    "## MVP\n",
    "This has been developed rapidly and is a Minimal Viable Product (MVP). There is much opportunity for further development. See the end of this document for some possible improvements.\n",
    "\n",
    "\n",
    "## Selecting the Imagery\n",
    "It is recommended to use [Sentinel-hub](https://apps.sentinel-hub.com/eo-browser/) to find imagery that meets your requirements for extracting water.\n",
    "\n",
    "Once you have found the imagery you want to extract water polygons from, the below documentation will take you through each step to target the imagery.\n",
    "\n",
    "\n",
    "## Outputs\n",
    "The main outputs of this notebook are:\n",
    "* Polygons delineating water (.shp)\n",
    "* The imagery fetched and used to extract water (.TIFF)\n",
    "\n",
    "All outputs are written to the user defined `output_directory`\n",
    "\n",
    "\n",
    "## Quick Theory\n",
    "\n",
    "### MNDWI\n",
    "For the purpose of delineating water, the MNDWI (modified Normalized Difference Water Index) is employed. This indicates water by using the ratio of the difference in the Green and Shortwave Infrared (SWIR) reflectance. This calculation leverages the properties of water that sees high amounts of visible light reflected while absorbing SWIR energy (see the MNDWI formular below).\n",
    "\n",
    "\n",
    "![MNDWI Formular](images/mndwi.png \"MNDWI Formular\")\n",
    "\n",
    "\n",
    "\n",
    "### COGs\n",
    "This Notebook uses Sentinel-2 data as stored in the Cloud Optimsed GeoTIFF (COG) format. One of the advantages of the COG format is the ability to make range requests whereby just a subset of data within an image is fetched.\n",
    "\n",
    "This concept is transformational when working with satellite imagery. Rather than downloading large images such as the Sentinel-2 100km X 100km granule at approximately 1GB, just the proportion of the image needed can be requested. This practice greatly reduces inefficiencies in data transfer, data processing and data management.\n",
    "\n",
    "###  STAC\n",
    "The [STAC (SpatioTemporal Asset Catalog)](https://github.com/radiantearth/stac-api-spec) API is queried to fetch references to the Sentinel-2 COGs that meet our needs.\n",
    "\n",
    "### Python Use\n",
    "The below python libraries are central to the process\n",
    "\n",
    "* **rasterio:** For displaying and writing the COG images\n",
    "* **rio_tiler:** For requesting and reading the image data. This provides the functionality for mapping the users area of interest (bounding box) to the images pixels for the range requests.\n",
    "* **satsearch:** For querying the image store STAC metadata to filter for images that meet the specified criteria (e.g. date and geospatial extent)\n",
    "* **matplotlib:** For plotting imagery\n",
    "* **geopandas:** Supports the handling of the vector data\n",
    "\n",
    "\n",
    "\n",
    "## Limitations\n",
    "While this process will allow for the extraction of water polygons from Sentinel-2 imagery with very little effort, it must be noted results will not be perfect. This is due to limitations of Water Indices, atmospheric affects, the size of water features and strength of the water's signature captured.\n",
    "\n",
    "Even with such limitations, this method is light-weight and much quicker than relying on laborious manual capture. Manual QA and improvements can be performed on the results fairly rapidly once in a GIS.\n",
    "\n",
    "Possible defects to be-aware of include:\n",
    "* **Cloud:** Cloud will have a negative impact on the water extraction results. This includes cloud cover inhibiting water detection and cloud returning false positives. In the ideal world, imagery would be cloud free.\n",
    "* **Small water features not captured**  Sentinel-2 pixel resolution is 10m. This combined with (mixed pixel)[https://en.mimi.hu/gis/mixed_pixel.html] causes small water features to not be extracted.\n",
    "* **Snow**: the MNDWI will return false positives for snow.\n"
   ]
  },
  {
   "cell_type": "markdown",
   "metadata": {},
   "source": [
    "![python](images/python.png)\n",
    "\n",
    "# Execute Water Extraction Steps\n",
    "\n",
    "Run the below code blocks to extract water from your desired image\n"
   ]
  },
  {
   "cell_type": "markdown",
   "metadata": {},
   "source": [
    "\n",
    "\n",
    "### Import The Required Python Modules"
   ]
  },
  {
   "cell_type": "code",
   "execution_count": null,
   "metadata": {},
   "outputs": [],
   "source": [
    "\"\"\"Sentinel-2 Water Extraction.\"\"\"\n",
    "import os\n",
    "import sys\n",
    "\n",
    "# suppress warnings - raised by external rasterio library\n",
    "import warnings\n",
    "from datetime import date\n",
    "from typing import List, Optional, Tuple, TypedDict\n",
    "\n",
    "import geopandas as gpd\n",
    "import matplotlib.pyplot as plt\n",
    "import numpy as np\n",
    "import numpy.typing as npt\n",
    "import rasterio\n",
    "from affine import Affine\n",
    "from rasterio.crs import CRS\n",
    "from rasterio.plot import show\n",
    "from rio_tiler.io import COGReader\n",
    "from satsearch import Search\n",
    "from satstac import ItemCollection\n",
    "from shapely.geometry import shape\n",
    "from typing_extensions import NotRequired\n",
    "\n",
    "if sys.version_info >= (3, 9):\n",
    "    from typing import Annotated\n",
    "else:\n",
    "    from typing_extensions import Annotated\n",
    "\n",
    "\n",
    "class Image(TypedDict):\n",
    "    \"\"\"Image info being passed around this code.\"\"\"\n",
    "\n",
    "    date: date\n",
    "    src_crs: str\n",
    "    rgb: npt.NDArray[np.float64]\n",
    "    mndwi: float\n",
    "    transform_window: Affine\n",
    "    image_id: str\n",
    "    water_mask: NotRequired[gpd.GeoDataFrame]\n",
    "    water: NotRequired[gpd.GeoDataFrame]\n",
    "    water_area: int\n",
    "    area: NotRequired[int]\n",
    "\n",
    "\n",
    "warnings.filterwarnings(\"ignore\")\n",
    "\n",
    "%matplotlib inline"
   ]
  },
  {
   "cell_type": "markdown",
   "metadata": {},
   "source": [
    "### User Variables\n",
    "\n",
    "\n",
    "\n",
    "The below User Variable icon found throughout this Notebook indicates the variables the users must set. Apart from running every code cell, the setting of these variables is all that is required to extract the water polygons using this script.\n",
    "\n",
    "<img style=\"float: left;\" src=\"images/user_var.png\" width=\"170\"><br />\n",
    "<br />\n",
    "\n",
    "To find the imagery parameters, use [Sentinel-hub](https://apps.sentinel-hub.com/eo-browser/) to view the available Sentinel-2 imagery\n",
    "\n",
    "Set the below variables to your geospatial extent, date range and output directory:\n",
    "\n",
    "* ` output_directory`: The directory where the Sentinel-2 images used for analysis and the water polygons will be extracted to\n",
    "* `bbox`: The bounding box (bbox) representing the area of interest where water is to be extracted from the Sentinel-2 image. Must be WGS_84/ESPG:4326\n",
    "  * This can be extracted from the QGIS map extent by running the below in the QGIS Python console.\n",
    "```\n",
    "extent = iface.mapCanvas().extent()\n",
    "print([extent.xMinimum(), extent.yMinimum(), extent.xMaximum(), extent.yMaximum()])\n",
    "```\n",
    "* `date_range`: Set the date range to cover the day of interest. Note, as with [Sentinel-hub](https://apps.sentinel-hub.com/eo-browser/) and all sources of Satellite imagery, time is UTC."
   ]
  },
  {
   "cell_type": "markdown",
   "metadata": {},
   "source": [
    "<img style=\"float: left;\" src=\"images/user_var.png\" width=\"170\">"
   ]
  },
  {
   "cell_type": "code",
   "execution_count": null,
   "metadata": {},
   "outputs": [],
   "source": [
    "OUTPUT_DIRECTORY = \"out\""
   ]
  },
  {
   "cell_type": "markdown",
   "metadata": {},
   "source": [
    "<img style=\"float: left;\" src=\"images/user_var.png\" width=\"170\">"
   ]
  },
  {
   "cell_type": "code",
   "execution_count": null,
   "metadata": {},
   "outputs": [],
   "source": [
    "BOUNDING_BOX = [\n",
    "    178.25713978199352,\n",
    "    -38.35007035917316,\n",
    "    178.34063970545665,\n",
    "    -38.30035412102727,\n",
    "]"
   ]
  },
  {
   "cell_type": "markdown",
   "metadata": {},
   "source": [
    "<img style=\"float: left;\" src=\"images/user_var.png\" width=\"170\">"
   ]
  },
  {
   "cell_type": "code",
   "execution_count": null,
   "metadata": {},
   "outputs": [],
   "source": [
    "DATE_RANGE = \"2022-03-23/2022-03-23\""
   ]
  },
  {
   "cell_type": "code",
   "execution_count": null,
   "metadata": {},
   "outputs": [],
   "source": [
    "# Sentinel-2 STAC API - No need to change\n",
    "URL = \"https://earth-search.aws.element84.com/v0/\""
   ]
  },
  {
   "cell_type": "markdown",
   "metadata": {},
   "source": [
    "## Define Functions\n",
    "Simply execute the below to make support functions available.\n",
    "\n",
    "Note; The only other user variable you will adjust in this process will be the `mndwi_threshold` parameter in the water polygon extraction step."
   ]
  },
  {
   "cell_type": "markdown",
   "metadata": {},
   "source": [
    "### Function For Requesting Imagery Subsets via Range Request"
   ]
  },
  {
   "cell_type": "code",
   "execution_count": null,
   "metadata": {},
   "outputs": [],
   "source": [
    "def range_request(\n",
    "    image_url: str,\n",
    "    crs: CRS,\n",
    "    bbox: Annotated[List[float], 4],\n",
    "    width: Optional[int] = None,\n",
    "    height: Optional[int] = None,\n",
    ") -> Tuple[npt.NDArray[np.float64], Affine]:\n",
    "    \"\"\"Request and read just the required pixels from the COG.\"\"\"\n",
    "    with COGReader(image_url) as image:\n",
    "        img = image.part(bbox, width=width, dst_crs=crs, height=height, nodata=-9999)\n",
    "\n",
    "        return (img.data, img.transform)"
   ]
  },
  {
   "cell_type": "markdown",
   "metadata": {},
   "source": [
    "### Function For Querying The COG Archive Via STAC"
   ]
  },
  {
   "cell_type": "code",
   "execution_count": null,
   "metadata": {},
   "outputs": [],
   "source": [
    "def image_search(bbox: Annotated[List[float], 4], date_range: str) -> ItemCollection:\n",
    "    \"\"\"Use SatSearch to find all Sentinel-2 images that meet our criteria.\"\"\"\n",
    "    # Note, we are not querying cloud cover and accepting\n",
    "    # all images irrelevant of cloud metadata.\n",
    "    search = Search(\n",
    "        bbox=bbox,\n",
    "        datetime=date_range,\n",
    "        collections=[\"sentinel-s2-l2a-cogs\"],\n",
    "        url=URL,\n",
    "        sort=[\"<datetime\"],\n",
    "    )\n",
    "\n",
    "    print(f\"items {search.found()}\")\n",
    "\n",
    "    if search.found() == 0:\n",
    "        print(\"NO IMAGE FOUND\")\n",
    "        sys.exit()\n",
    "\n",
    "    return search.items()"
   ]
  },
  {
   "cell_type": "markdown",
   "metadata": {},
   "source": [
    "### Function For Exporting The Raster"
   ]
  },
  {
   "cell_type": "code",
   "execution_count": null,
   "metadata": {},
   "outputs": [],
   "source": [
    "def export_raster(image: Image) -> None:\n",
    "    \"\"\"Export GeoTiffs for use in a GIS.\"\"\"\n",
    "    raster_output = os.path.join(OUTPUT_DIRECTORY, f\"{image['image_id']}.tif\")\n",
    "    number_of_bands, height, width = image[\"rgb\"].shape\n",
    "\n",
    "    profile = {\n",
    "        \"driver\": \"GTiff\",\n",
    "        \"count\": number_of_bands,\n",
    "        \"height\": height,\n",
    "        \"width\": width,\n",
    "        \"crs\": image[\"src_crs\"],\n",
    "        \"dtype\": image[\"rgb\"].dtype,\n",
    "        \"transform\": image[\"transform_window\"],\n",
    "        \"nodata\": -9999,\n",
    "        \"photometric\": \"RGB\",\n",
    "    }\n",
    "\n",
    "    with rasterio.open(raster_output, \"w\", **profile) as dst:\n",
    "        dst.write(image[\"rgb\"])"
   ]
  },
  {
   "cell_type": "markdown",
   "metadata": {},
   "source": [
    "## Calculate MNDVI"
   ]
  },
  {
   "cell_type": "markdown",
   "metadata": {},
   "source": [
    "### Get Data Within The Bounding Box And Calculate The MNDWI"
   ]
  },
  {
   "cell_type": "code",
   "execution_count": null,
   "metadata": {},
   "outputs": [],
   "source": [
    "IMAGES: List[Image] = []\n",
    "\n",
    "# Iterate over all observations meeting our search criteria\n",
    "ITEMS = image_search(BOUNDING_BOX, DATE_RANGE)\n",
    "for item in ITEMS:\n",
    "    # Refs to images\n",
    "    green = item.asset(\"green\")[\"href\"]\n",
    "    swir = item.asset(\"swir16\")[\"href\"]\n",
    "    rgb = item.asset(\"visual\")[\"href\"]\n",
    "    scl = item.asset(\"SCL\")[\"href\"]\n",
    "    date_ = item.date.strftime(\"%d/%m/%Y\")\n",
    "    crs = f\"EPSG:{item.properties['proj:epsg']}\"\n",
    "\n",
    "    # Streamed pixels within bbox\n",
    "    # Green\n",
    "    green_subset, transform_window = range_request(green, crs, BOUNDING_BOX)\n",
    "\n",
    "    # The shape of the 10m band will be used for the output size of the 20m resampling\n",
    "    ten_meter_shape = green_subset.shape\n",
    "\n",
    "    # SWIR\n",
    "    swir_subset, transform_window = range_request(\n",
    "        swir, crs, BOUNDING_BOX, ten_meter_shape[2], ten_meter_shape[1]\n",
    "    )\n",
    "\n",
    "    # RGB\n",
    "    rgb_subset, transform_window = range_request(rgb, crs, BOUNDING_BOX)\n",
    "    # Make any nodata display as white\n",
    "    rgb_subset[rgb_subset == -9999] = np.max(rgb_subset)\n",
    "\n",
    "    # Calcualte MNDWI\n",
    "    mndwi_subset = (green_subset.astype(float) - swir_subset.astype(float)) / (\n",
    "        green_subset + swir_subset\n",
    "    )\n",
    "\n",
    "    # Store the data for further processing\n",
    "    IMAGES.append(\n",
    "        {\n",
    "            \"date\": date_,\n",
    "            \"src_crs\": crs,\n",
    "            \"rgb\": rgb_subset,\n",
    "            \"mndwi\": mndwi_subset,\n",
    "            \"transform_window\": transform_window,\n",
    "            \"image_id\": item.id,\n",
    "            \"water_area\": 0,\n",
    "        }\n",
    "    )"
   ]
  },
  {
   "cell_type": "markdown",
   "metadata": {},
   "source": [
    "## View The Images That Were Returned"
   ]
  },
  {
   "cell_type": "code",
   "execution_count": null,
   "metadata": {},
   "outputs": [],
   "source": [
    "from matplotlib import gridspec\n",
    "\n",
    "# compute the number of rows and columns\n",
    "N_PLOTS = len(IMAGES)\n",
    "N_COLS = int(np.sqrt(N_PLOTS))\n",
    "N_ROWS = int(np.ceil(N_PLOTS / N_COLS))\n",
    "\n",
    "# setup the plot\n",
    "SCALE = max(N_COLS, N_ROWS)\n",
    "FIG = plt.figure(figsize=(5 * SCALE, 5 * SCALE))\n",
    "GRID = gridspec.GridSpec(N_ROWS, N_COLS, FIG, wspace=0.4)\n",
    "\n",
    "# iterate through each subplot and plot each image\n",
    "for i in range(N_PLOTS):\n",
    "    ax = FIG.add_subplot(GRID[i])\n",
    "    show(\n",
    "        IMAGES[i][\"rgb\"],\n",
    "        transform=IMAGES[i][\"transform_window\"],\n",
    "        ax=ax,\n",
    "        title=IMAGES[i][\"date\"],\n",
    "    )\n",
    "\n",
    "for ax in FIG.get_axes():\n",
    "    ax.ticklabel_format(style=\"plain\")  # show full y-axis labels"
   ]
  },
  {
   "cell_type": "markdown",
   "metadata": {},
   "source": [
    "## Extract The Water Polygons\n",
    "Now we have the MNDWI calcualted, we will use this to extract polygons representing pixels above a specified MNDWI value"
   ]
  },
  {
   "cell_type": "markdown",
   "metadata": {},
   "source": [
    "### Set User Defined Thresholds\n",
    "#### MNDWI Threshold\n",
    "A pixel with a NDWI value greater than zero is generally considered water. However, multispectral images acquired by different satellite platforms at different regions and different times of year always have different characteristics\n",
    "\n",
    "For this reason it is recommended tuning the below `mndwi_threshold` parameter for your image until the most desirable results are achieved.\n"
   ]
  },
  {
   "cell_type": "markdown",
   "metadata": {},
   "source": [
    "<img style=\"float: left;\" src=\"images/user_var.png\" width=\"170\">\n",
    "\n",
    "Changing values between -1 & 1 will alter the sensitivity and number of pixels classified as water"
   ]
  },
  {
   "cell_type": "code",
   "execution_count": null,
   "metadata": {},
   "outputs": [],
   "source": [
    "MNDWI_THRESHOLD = 0.01"
   ]
  },
  {
   "cell_type": "markdown",
   "metadata": {},
   "source": [
    "### Mask the MNDWI image and extract water Polygons\n",
    "Below:\n",
    "* The MNDWI image is masked using the `mndwi_threshold`\n",
    "* The mask is converted to water polygons\n",
    "* Water polygons and the Sentinel-2 images are exported to the output_directory"
   ]
  },
  {
   "cell_type": "code",
   "execution_count": null,
   "metadata": {},
   "outputs": [],
   "source": [
    "SIEVE_THRESHOLD = 10\n",
    "\n",
    "for image in IMAGES:\n",
    "    # Mask out all values below the mndwi threshold (these are not water)\n",
    "    water_mask = np.ma.masked_less(image[\"mndwi\"], MNDWI_THRESHOLD)  # type: ignore[no-untyped-call]\n",
    "\n",
    "    # Extract the polygons from the mask\n",
    "    water_polygons = rasterio.features.shapes(\n",
    "        source=water_mask.astype(\"uint8\"),\n",
    "        transform=image[\"transform_window\"],\n",
    "    )\n",
    "\n",
    "    # Add all polygons to the list\n",
    "    water_polygons = list(water_polygons)\n",
    "\n",
    "    # Extract the polygon coordinates and values from the list\n",
    "    polygons = [polygon for polygon, value in water_polygons]\n",
    "    values = [str(int(value)) for polygon, value in water_polygons]\n",
    "\n",
    "    # Convert polygons into a shapely.shape\n",
    "    polygons = [shape(polygon) for polygon in polygons]\n",
    "\n",
    "    # Create a geopandas dataframe populated with the polygon shapes\n",
    "    water_geodataframe = gpd.GeoDataFrame(\n",
    "        {\"is_water\": values, \"geometry\": polygons}, crs=image[\"src_crs\"]\n",
    "    )\n",
    "\n",
    "    # Dissolve all records into two records. is water / is not water\n",
    "    is_water = water_geodataframe.dissolve(by=\"is_water\")\n",
    "\n",
    "    # Select only the water records\n",
    "    water = is_water.query(\"is_water=='0'\")\n",
    "\n",
    "    # Export the polygons\n",
    "    water.to_file(\n",
    "        os.path.join(OUTPUT_DIRECTORY, f\"water_mndwi_{image['image_id']}.shp\")\n",
    "    )\n",
    "\n",
    "    # Export the accompanying Sentinel-2 image\n",
    "    export_raster(image)\n",
    "\n",
    "    # Export working steps if desired\n",
    "    image[\"water\"] = water\n",
    "    image[\"water_mask\"] = water_mask\n",
    "    if len(water.area) == 1:\n",
    "        image[\"area\"] = water.area[0] / 1000000  # in km2\n",
    "    else:\n",
    "        image[\"area\"] = 0"
   ]
  },
  {
   "cell_type": "markdown",
   "metadata": {},
   "source": [
    "## Plot the Water Extraction Steps\n",
    "This adds transparency to the above steps and aides rapid fine tuning such as via the`mndwi_threshold` parameter"
   ]
  },
  {
   "cell_type": "code",
   "execution_count": null,
   "metadata": {},
   "outputs": [],
   "source": [
    "for image in IMAGES:\n",
    "    fig, axs = plt.subplots(2, 2, figsize=(12, 12))\n",
    "\n",
    "    show(\n",
    "        image[\"rgb\"],\n",
    "        transform=image[\"transform_window\"],\n",
    "        ax=axs[0, 0],\n",
    "        title=f\"RGB {image['date']}\\nImage: {image['image_id']}\",\n",
    "    )\n",
    "\n",
    "    show(\n",
    "        image[\"mndwi\"],\n",
    "        transform=image[\"transform_window\"],\n",
    "        ax=axs[0, 1],\n",
    "        title=f\"mndwi {image['date']}\\nImage: {image['image_id']}\",\n",
    "        cmap=\"GnBu\",\n",
    "    )\n",
    "\n",
    "    show(\n",
    "        image[\"water_mask\"].mask,\n",
    "        transform=image[\"transform_window\"],\n",
    "        ax=axs[1, 0],\n",
    "        title=f\"Water Mask {image['date']}\\nImage: {image['image_id']}\",\n",
    "    )\n",
    "\n",
    "    show(\n",
    "        image[\"rgb\"],\n",
    "        transform=image[\"transform_window\"],\n",
    "        ax=axs[1, 1],\n",
    "        title=f\"Water Polygon {image['date']}\\nImage: {image['image_id']}\",\n",
    "    )\n",
    "    image[\"water\"].boundary.plot(ax=axs[1, 1], color=\"cornflowerblue\", linewidth=4)\n",
    "\n",
    "    fig.suptitle(\"Water Extraction Steps\", fontsize=40)\n",
    "\n",
    "    for ax in fig.get_axes():\n",
    "        ax.label_outer()\n",
    "        ax.ticklabel_format(style=\"plain\")  # show full y-coords\n",
    "    fig.tight_layout()\n",
    "    plt.subplots_adjust(\n",
    "        left=None, bottom=None, right=None, top=0.9, wspace=None, hspace=0.2\n",
    "    )\n",
    "\n",
    "    fig.savefig(\n",
    "        os.path.join(\n",
    "            OUTPUT_DIRECTORY, f\"water_extraction_steps_{image['image_id']}.png\"\n",
    "        ),\n",
    "        facecolor=\"white\",\n",
    "    )"
   ]
  },
  {
   "cell_type": "markdown",
   "metadata": {},
   "source": [
    "## Further Development / Building on MVP\n",
    "* Add a sieve function to remove water/nonwater features under a specified threshold\n",
    "* Analysis a baseline image and perform diff'ing to indicate flood waters as opposed to just water in general\n",
    "* Cloud masking could be introduced\n",
    "* Some may find having the MNDWI and Mask images exported for use in a GIS useful.\n",
    "* If the bounding box is outside the COG extent a white boarder is attached to the image. This should be removed are transparent\n"
   ]
  }
 ],
 "metadata": {
  "language_info": {
   "name": "python"
  }
 },
 "nbformat": 4,
 "nbformat_minor": 4
}
